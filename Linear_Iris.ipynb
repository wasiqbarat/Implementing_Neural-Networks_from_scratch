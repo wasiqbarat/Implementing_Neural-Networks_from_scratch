{
  "cells": [
    {
      "cell_type": "code",
      "execution_count": 1,
      "metadata": {
        "id": "7QOxmuD1Abp1"
      },
      "outputs": [],
      "source": [
        "#don't change this cell\n",
        "import pandas as pd\n",
        "import torch\n",
        "from torch import Tensor, nn,optim\n",
        "from torch.utils.data.dataset import Dataset\n",
        "from torchsummary import summary\n",
        "from tqdm import tqdm\n",
        "import matplotlib.pylab as plt"
      ]
    },
    {
      "cell_type": "code",
      "execution_count": 4,
      "metadata": {
        "colab": {
          "base_uri": "https://localhost:8080/",
          "height": 36
        },
        "id": "egoFKvRuAbp5",
        "outputId": "00f91323-93f8-4cbf-d0e2-51ff0f30a486"
      },
      "outputs": [
        {
          "data": {
            "application/vnd.google.colaboratory.intrinsic+json": {
              "type": "string"
            },
            "text/plain": [
              "'cuda'"
            ]
          },
          "execution_count": 4,
          "metadata": {},
          "output_type": "execute_result"
        }
      ],
      "source": [
        "#don't change this cell\n",
        "device = \"cuda\" if torch.cuda.is_available() else \"cpu\"\n",
        "device "
      ]
    },
    {
      "cell_type": "code",
      "execution_count": 5,
      "metadata": {
        "id": "2NO_AlQTAbp7"
      },
      "outputs": [],
      "source": [
        "#do not change this cell\n",
        "class CSVDataset(Dataset):\n",
        "    def __init__(self, path: str):\n",
        "        self.data = pd.get_dummies(pd.read_csv(path), columns=['Species']).astype(float)\n",
        "\n",
        "    def __len__(self):\n",
        "        return len(self.data)\n",
        "\n",
        "    def __getitem__(self, idx: int):\n",
        "        row = self.data.iloc[idx]\n",
        "        features = torch.tensor(row[:-3].values, dtype=torch.float32)\n",
        "        label = torch.tensor([row.iloc[-3],row.iloc[-2],row.iloc[-1]], dtype=torch.float32)\n",
        "        return features, label\n",
        "\n",
        "    @property\n",
        "    def classes(parameter_list):\n",
        "        return ['Iris-setosa','Iris-versicolor','Iris-virginica']"
      ]
    },
    {
      "cell_type": "code",
      "execution_count": 7,
      "metadata": {
        "id": "s-e9JPlGAbp8"
      },
      "outputs": [],
      "source": [
        "import os\n",
        "\n",
        "base_path = os.getcwd()\n",
        "\n",
        "#TODO change pathes\n",
        "path_train = os.path.join(base_path, \"Iris-Train.csv\")\n",
        "path_test = os.path.join(base_path, \"Iris-Test.csv\")\n",
        "\n",
        "dataset_train = CSVDataset(path_train)\n",
        "dataset_test = CSVDataset(path_test)"
      ]
    },
    {
      "cell_type": "code",
      "execution_count": 8,
      "metadata": {
        "id": "G1_KTIs9Abp9"
      },
      "outputs": [],
      "source": [
        "from torch.utils.data import DataLoader\n",
        "\n",
        "#TODO set parameters\n",
        "loader_train = DataLoader(\n",
        "    dataset=dataset_train,\n",
        "    batch_size=10,\n",
        "    shuffle=True\n",
        ")\n",
        "\n",
        "loader_test = DataLoader(\n",
        "    dataset=dataset_test,\n",
        "    batch_size=10,\n",
        "    shuffle=True\n",
        ")"
      ]
    },
    {
      "cell_type": "code",
      "execution_count": 9,
      "metadata": {
        "colab": {
          "base_uri": "https://localhost:8080/"
        },
        "id": "jR6izy0kAbp9",
        "outputId": "466f05f0-cb6d-4841-f429-f562f1f439aa"
      },
      "outputs": [
        {
          "name": "stdout",
          "output_type": "stream",
          "text": [
            "batch   size\t= 10\n",
            "train   size\t= 105\n",
            "test    size\t= 60\n",
            "Class   names\t= ['Iris-setosa', 'Iris-versicolor', 'Iris-virginica']\n",
            "input   shape\t= torch.Size([4])\n",
            "output  shape\t= torch.Size([3])\n",
            "example input\t= tensor([5.1000, 3.5000, 1.4000, 0.2000])\n",
            "example output\t= tensor([1., 0., 0.])\n",
            "example label\t= Iris-setosa\n"
          ]
        }
      ],
      "source": [
        "#don't change this cell\n",
        "print(f\"batch   size\\t= {loader_train.batch_size}\")\n",
        "print(f\"train   size\\t= {len(dataset_train):,}\")\n",
        "print(f\"test    size\\t= {len(dataset_test):,}\")\n",
        "print(f\"Class   names\\t= {dataset_train.classes}\")\n",
        "print(f\"input   shape\\t= {dataset_train[0][0].shape}\")\n",
        "print(f\"output  shape\\t= {dataset_train[0][1].shape}\")\n",
        "print(f\"example input\\t= {dataset_train[0][0]}\")\n",
        "print(f\"example output\\t= {dataset_train[0][1]}\")\n",
        "print(f\"example label\\t= {dataset_train.classes[dataset_train[0][1].argmax()]}\")"
      ]
    },
    {
      "cell_type": "code",
      "execution_count": 29,
      "metadata": {
        "id": "Qemcnu9AAbp-"
      },
      "outputs": [],
      "source": [
        "#TODO Define your model\n",
        "class MyModel(torch.nn.Module):\n",
        "    def __init__(self):\n",
        "        super(MyModel, self).__init__()\n",
        "        self.linear1 = torch.nn.Linear(4, 10)\n",
        "        self.activation = torch.nn.ReLU()\n",
        "        self.linear2 = torch.nn.Linear(10, 3)\n",
        "        self.softmax = torch.nn.Softmax()\n",
        "\n",
        "    def forward(self, x: Tensor):\n",
        "        x = self.linear1(x)\n",
        "        x = self.activation(x)\n",
        "        x = self.linear2(x)\n",
        "        x = self.softmax(x)\n",
        "        return x\n"
      ]
    },
    {
      "cell_type": "code",
      "execution_count": 30,
      "metadata": {
        "colab": {
          "base_uri": "https://localhost:8080/"
        },
        "id": "UNzM7P4HAbp_",
        "outputId": "478ba682-5a80-4ed9-c2ee-97fcd4bd9e02"
      },
      "outputs": [
        {
          "name": "stdout",
          "output_type": "stream",
          "text": [
            "----------------------------------------------------------------\n",
            "        Layer (type)               Output Shape         Param #\n",
            "================================================================\n",
            "            Linear-1                   [-1, 10]              50\n",
            "              ReLU-2                   [-1, 10]               0\n",
            "            Linear-3                    [-1, 3]              33\n",
            "           Softmax-4                    [-1, 3]               0\n",
            "================================================================\n",
            "Total params: 83\n",
            "Trainable params: 83\n",
            "Non-trainable params: 0\n",
            "----------------------------------------------------------------\n",
            "Input size (MB): 0.00\n",
            "Forward/backward pass size (MB): 0.00\n",
            "Params size (MB): 0.00\n",
            "Estimated Total Size (MB): 0.00\n",
            "----------------------------------------------------------------\n"
          ]
        },
        {
          "name": "stderr",
          "output_type": "stream",
          "text": [
            "/usr/local/lib/python3.10/dist-packages/torch/nn/modules/module.py:1553: UserWarning: Implicit dimension choice for softmax has been deprecated. Change the call to include dim=X as an argument.\n",
            "  return self._call_impl(*args, **kwargs)\n"
          ]
        }
      ],
      "source": [
        "#don't change this cell\n",
        "model = MyModel().to(device)\n",
        "_ = summary(model, input_size=(4,))"
      ]
    },
    {
      "cell_type": "code",
      "execution_count": 31,
      "metadata": {
        "id": "eY4AwqglAbp_"
      },
      "outputs": [],
      "source": [
        "#don't change this cell\n",
        "def one_epoch_learning(\n",
        "    model: nn.Module,\n",
        "    criterion: nn.Module,\n",
        "    loader: DataLoader,\n",
        "    optimizer: optim.Optimizer,\n",
        ") -> int:\n",
        "    model.train()\n",
        "    accs = 0\n",
        "    for data, label in loader:\n",
        "        data: Tensor = data.to(device)\n",
        "        label: Tensor = label.to(device)\n",
        "\n",
        "        optimizer.zero_grad()\n",
        "        res: Tensor = model(data)\n",
        "        loss: Tensor = criterion(res, label)\n",
        "        loss.backward()\n",
        "        optimizer.step()\n",
        "        accs += (res.argmax(dim=1) == label.argmax(dim=1)).sum().item()\n",
        "    return accs"
      ]
    },
    {
      "cell_type": "code",
      "execution_count": 32,
      "metadata": {
        "id": "47VaJL3bAbqA"
      },
      "outputs": [],
      "source": [
        "#don't change this cell\n",
        "def calculate_accuracy(\n",
        "    model: nn.Module, loader: DataLoader, criterion: nn.Module\n",
        ") -> int:\n",
        "    model.eval()\n",
        "    accs = 0\n",
        "    for data, label in loader:\n",
        "        data: Tensor = data.to(device)\n",
        "        label: Tensor = label.to(device)\n",
        "\n",
        "        res: Tensor = model(data)\n",
        "\n",
        "        accs += (res.argmax(dim=1) == label.argmax(dim=1)).sum().item()\n",
        "    return accs"
      ]
    },
    {
      "cell_type": "code",
      "execution_count": 33,
      "metadata": {
        "id": "7LoDmuCkAbqB"
      },
      "outputs": [],
      "source": [
        "#don't change this cell\n",
        "def train(\n",
        "    model: nn.Module,\n",
        "    criterion: nn.Module,\n",
        "    loader_train: DataLoader,\n",
        "    loader_test: DataLoader,\n",
        "    optimizer: optim.Optimizer,\n",
        "    epoch: int,\n",
        "):\n",
        "    results_train = []\n",
        "    results_test = []\n",
        "    for i in tqdm(range(epoch)):\n",
        "        res_train = one_epoch_learning(model, criterion, loader_train, optimizer)\n",
        "        results_train.append(res_train / len(loader_train.dataset))\n",
        "        res_test = calculate_accuracy(model, loader_test, criterion)\n",
        "        results_test.append(res_test / len(loader_test.dataset))\n",
        "    return results_train, results_test"
      ]
    },
    {
      "cell_type": "code",
      "execution_count": 41,
      "metadata": {
        "colab": {
          "base_uri": "https://localhost:8080/"
        },
        "id": "DZvGO_8BAbqC",
        "outputId": "57f3c97d-0736-45a8-a86e-0107d6061c30"
      },
      "outputs": [
        {
          "name": "stderr",
          "output_type": "stream",
          "text": [
            "100%|██████████| 1000/1000 [00:43<00:00, 22.83it/s]\n"
          ]
        }
      ],
      "source": [
        "#TODO set EPOCH and optimizer and loss function\n",
        "EPOCH = 1000\n",
        "optimizer = torch.optim.SGD(model.parameters())\n",
        "loss = nn.CrossEntropyLoss()\n",
        "\n",
        "train_accs, test_accs = train(model, loss, loader_train, loader_test, optimizer, EPOCH)"
      ]
    },
    {
      "cell_type": "code",
      "execution_count": 42,
      "metadata": {
        "colab": {
          "base_uri": "https://localhost:8080/",
          "height": 449
        },
        "id": "3om-hM9UAbqC",
        "outputId": "a805d2bb-201c-4936-88b9-19972e84ca2d"
      },
      "outputs": [
        {
          "data": {
            "image/png": "[encoded data removed]",
            "text/plain": [
              "<Figure size 640x480 with 1 Axes>"
            ]
          },
          "metadata": {},
          "output_type": "display_data"
        }
      ],
      "source": [
        "#don't change this cell\n",
        "plt.plot(train_accs, label=\"Train accuracy\")\n",
        "plt.plot(test_accs, label=\"Test accuracy\")\n",
        "plt.xlabel(\"Epoch\")\n",
        "plt.ylabel(\"Accuracy\")\n",
        "plt.legend()\n",
        "plt.show()"
      ]
    },
    {
      "cell_type": "code",
      "execution_count": 43,
      "metadata": {
        "colab": {
          "base_uri": "https://localhost:8080/"
        },
        "id": "-A50clQjAbqD",
        "outputId": "cb7bfdc1-2f5a-453b-e6e7-97397170769f"
      },
      "outputs": [
        {
          "name": "stdout",
          "output_type": "stream",
          "text": [
            "final train acc = 0.97143\n",
            "final test acc = 0.93333\n",
            "max train acc = 0.97143\n",
            "max test acc = 0.93333\n",
            "min train acc = 0.69524\n",
            "min test acc = 0.68333\n"
          ]
        }
      ],
      "source": [
        "#don't change this cell\n",
        "print(f\"final train acc = {train_accs[-1]:.5f}\")\n",
        "print(f\"final test acc = {test_accs[-1]:.5f}\")\n",
        "print(f\"max train acc = {max(train_accs):.5f}\")\n",
        "print(f\"max test acc = {max(test_accs):.5f}\")\n",
        "print(f\"min train acc = {min(train_accs):.5f}\")\n",
        "print(f\"min test acc = {min(test_accs):.5f}\")"
      ]
    }
  ],
  "metadata": {
    "accelerator": "GPU",
    "colab": {
      "gpuType": "T4",
      "provenance": []
    },
    "kernelspec": {
      "display_name": "civenv",
      "language": "python",
      "name": "python3"
    },
    "language_info": {
      "codemirror_mode": {
        "name": "ipython",
        "version": 3
      },
      "file_extension": ".py",
      "mimetype": "text/x-python",
      "name": "python",
      "nbconvert_exporter": "python",
      "pygments_lexer": "ipython3",
      "version": "3.12.6"
    }
  },
  "nbformat": 4,
  "nbformat_minor": 0
}
