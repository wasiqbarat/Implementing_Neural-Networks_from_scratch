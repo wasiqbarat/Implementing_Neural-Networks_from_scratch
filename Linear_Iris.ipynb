{
 "cells": [
  {
   "cell_type": "code",
   "execution_count": 1,
   "metadata": {},
   "outputs": [],
   "source": [
    "#don't change this cell\n",
    "import pandas as pd\n",
    "import torch\n",
    "from torch import Tensor, nn,optim\n",
    "from torch.utils.data.dataset import Dataset\n",
    "from torchsummary import summary\n",
    "from tqdm import tqdm\n",
    "import matplotlib.pylab as plt"
   ]
  },
  {
   "cell_type": "code",
   "execution_count": null,
   "metadata": {},
   "outputs": [],
   "source": [
    "#don't change this cell\n",
    "device = \"cuda\" if torch.cuda.is_available() else \"cpu\"\n",
    "device"
   ]
  },
  {
   "cell_type": "code",
   "execution_count": 3,
   "metadata": {},
   "outputs": [],
   "source": [
    "#do not change this cell\n",
    "class CSVDataset(Dataset):\n",
    "    def __init__(self, path: str):\n",
    "        self.data = pd.get_dummies(pd.read_csv(path), columns=['Species']).astype(float)\n",
    "\n",
    "    def __len__(self):\n",
    "        return len(self.data)\n",
    "\n",
    "    def __getitem__(self, idx: int):\n",
    "        row = self.data.iloc[idx]\n",
    "        features = torch.tensor(row[:-3].values, dtype=torch.float32)\n",
    "        label = torch.tensor([row.iloc[-3],row.iloc[-2],row.iloc[-1]], dtype=torch.float32)\n",
    "        return features, label\n",
    "    \n",
    "    @property\n",
    "    def classes(parameter_list):\n",
    "        return ['Iris-setosa','Iris-versicolor','Iris-virginica']"
   ]
  },
  {
   "cell_type": "code",
   "execution_count": 4,
   "metadata": {},
   "outputs": [],
   "source": [
    "import os\n",
    "\n",
    "base_path = os.getcwd()\n",
    "\n",
    "#TODO change pathes\n",
    "path_train = os.path.join(base_path, \"your train dataset path . . .\")\n",
    "path_test = os.path.join(base_path, \"your test dataset path . . .\")\n",
    "\n",
    "dataset_train = CSVDataset(path_train)\n",
    "dataset_test = CSVDataset(path_test)"
   ]
  },
  {
   "cell_type": "code",
   "execution_count": 5,
   "metadata": {},
   "outputs": [],
   "source": [
    "from torch.utils.data import DataLoader\n",
    "\n",
    "#TODO set parameters\n",
    "loader_train = DataLoader(\n",
    "    dataset=dataset_train,\n",
    "    batch_size=...,\n",
    "    shuffle=...\n",
    ")\n",
    "loader_test = DataLoader(\n",
    "    dataset=dataset_test,\n",
    "    batch_size=...,\n",
    "    shuffle=...\n",
    ")"
   ]
  },
  {
   "cell_type": "code",
   "execution_count": null,
   "metadata": {},
   "outputs": [],
   "source": [
    "#don't change this cell\n",
    "print(f\"batch   size\\t= {loader_train.batch_size}\")\n",
    "print(f\"train   size\\t= {len(dataset_train):,}\")\n",
    "print(f\"test    size\\t= {len(dataset_test):,}\")\n",
    "print(f\"Class   names\\t= {dataset_train.classes}\")\n",
    "print(f\"input   shape\\t= {dataset_train[0][0].shape}\")\n",
    "print(f\"output  shape\\t= {dataset_train[0][1].shape}\")\n",
    "print(f\"example input\\t= {dataset_train[0][0]}\")\n",
    "print(f\"example output\\t= {dataset_train[0][1]}\")\n",
    "print(f\"example label\\t= {dataset_train.classes[dataset_train[0][1].argmax()]}\")"
   ]
  },
  {
   "cell_type": "code",
   "execution_count": 7,
   "metadata": {},
   "outputs": [],
   "source": [
    "#TODO Define your model\n",
    "class MyModel(torch.nn.Module):\n",
    "    def __init__(self):\n",
    "        super(MyModel, self).__init__()\n",
    "\n",
    "    def forward(self, x: Tensor):\n",
    "        return x"
   ]
  },
  {
   "cell_type": "code",
   "execution_count": null,
   "metadata": {},
   "outputs": [],
   "source": [
    "#don't change this cell\n",
    "model = MyModel().to(device)\n",
    "_ = summary(model,[5])"
   ]
  },
  {
   "cell_type": "code",
   "execution_count": 9,
   "metadata": {},
   "outputs": [],
   "source": [
    "#don't change this cell\n",
    "def one_epoch_learning(\n",
    "    model: nn.Module,\n",
    "    criterion: nn.Module,\n",
    "    loader: DataLoader,\n",
    "    optimizer: optim.Optimizer,\n",
    ") -> int:\n",
    "    model.train()\n",
    "    accs = 0\n",
    "    for data, label in loader:\n",
    "        data: Tensor = data.to(device)\n",
    "        label: Tensor = label.to(device)\n",
    "\n",
    "        optimizer.zero_grad()\n",
    "        res: Tensor = model(data)\n",
    "        loss: Tensor = criterion(res, label)\n",
    "        loss.backward()\n",
    "        optimizer.step()\n",
    "        accs += (res.argmax(dim=1) == label.argmax(dim=1)).sum().item()\n",
    "    return accs"
   ]
  },
  {
   "cell_type": "code",
   "execution_count": 10,
   "metadata": {},
   "outputs": [],
   "source": [
    "#don't change this cell\n",
    "def calculate_accuracy(\n",
    "    model: nn.Module, loader: DataLoader, criterion: nn.Module\n",
    ") -> int:\n",
    "    model.eval()\n",
    "    accs = 0\n",
    "    for data, label in loader:\n",
    "        data: Tensor = data.to(device)\n",
    "        label: Tensor = label.to(device)\n",
    "\n",
    "        res: Tensor = model(data)      \n",
    "          \n",
    "        accs += (res.argmax(dim=1) == label.argmax(dim=1)).sum().item()\n",
    "    return accs"
   ]
  },
  {
   "cell_type": "code",
   "execution_count": 11,
   "metadata": {},
   "outputs": [],
   "source": [
    "#don't change this cell\n",
    "def train(\n",
    "    model: nn.Module,\n",
    "    criterion: nn.Module,\n",
    "    loader_train: DataLoader,\n",
    "    loader_test: DataLoader,\n",
    "    optimizer: optim.Optimizer,\n",
    "    epoch: int,\n",
    "):\n",
    "    results_train = []\n",
    "    results_test = []\n",
    "    for i in tqdm(range(epoch)):\n",
    "        res_train = one_epoch_learning(model, criterion, loader_train, optimizer)\n",
    "        results_train.append(res_train / len(loader_train.dataset))\n",
    "        res_test = calculate_accuracy(model, loader_test, criterion)\n",
    "        results_test.append(res_test / len(loader_test.dataset))\n",
    "    return results_train, results_test"
   ]
  },
  {
   "cell_type": "code",
   "execution_count": null,
   "metadata": {},
   "outputs": [],
   "source": [
    "#TODO set EPOCH and optimizer and loss function\n",
    "EPOCH = ...\n",
    "optimizer = ...\n",
    "loss = ...\n",
    "train_accs, test_accs = train(model, loss, loader_train, loader_test, optimizer, EPOCH)"
   ]
  },
  {
   "cell_type": "code",
   "execution_count": null,
   "metadata": {},
   "outputs": [],
   "source": [
    "#don't change this cell\n",
    "plt.plot(train_accs, label=\"Train accuracy\")\n",
    "plt.plot(test_accs, label=\"Test accuracy\")\n",
    "plt.xlabel(\"Epoch\")\n",
    "plt.ylabel(\"Accuracy\")\n",
    "plt.legend()\n",
    "plt.show()"
   ]
  },
  {
   "cell_type": "code",
   "execution_count": null,
   "metadata": {},
   "outputs": [],
   "source": [
    "#don't change this cell\n",
    "print(f\"final train acc = {train_accs[-1]:.5f}\")\n",
    "print(f\"final test acc = {test_accs[-1]:.5f}\")\n",
    "print(f\"max train acc = {max(train_accs):.5f}\")\n",
    "print(f\"max test acc = {max(test_accs):.5f}\")\n",
    "print(f\"min train acc = {min(train_accs):.5f}\")\n",
    "print(f\"min test acc = {min(test_accs):.5f}\")"
   ]
  }
 ],
 "metadata": {
  "kernelspec": {
   "display_name": "Python 3",
   "language": "python",
   "name": "python3"
  },
  "language_info": {
   "codemirror_mode": {
    "name": "ipython",
    "version": 3
   },
   "file_extension": ".py",
   "mimetype": "text/x-python",
   "name": "python",
   "nbconvert_exporter": "python",
   "pygments_lexer": "ipython3",
   "version": "3.11.9"
  }
 },
 "nbformat": 4,
 "nbformat_minor": 2
}
