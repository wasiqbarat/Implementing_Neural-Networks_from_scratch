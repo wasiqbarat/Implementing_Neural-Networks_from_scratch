{
  "cells": [
    {
      "cell_type": "markdown",
      "metadata": {
        "id": "WnCb0ddP8QU8"
      },
      "source": [
        "### Computational Intelligence - Project 1 - 9931xx6"
      ]
    },
    {
      "cell_type": "markdown",
      "metadata": {},
      "source": [
        "### نکات پیاده سازی :\n",
        " به منظور رعایت قوانین پیاده سازی پروژه از کتابخانه *پایتورچ* فقط برای لود کردن دیتاست استفاده گردیده است. متباقی موارد که شامل آموزش\n",
        "مدل نیز هست بطور کامل توسط کتابخانه Mytorch پیاده سازی شده است.\n",
        "\n",
        "\n",
        "##### پیاده سازی قسمت هایی از فاز دوم پروژه مانند چگونگی آموزش داده ها و نمایش آن بر روی نمودار از فاز اول پروژه الهام گرفته شده است."
      ]
    },
    {
      "cell_type": "code",
      "execution_count": null,
      "metadata": {
        "colab": {
          "base_uri": "https://localhost:8080/"
        },
        "id": "MPhOyAftAuLy",
        "outputId": "21eedcf5-90d7-499c-a22c-3060cf831a66"
      },
      "outputs": [
        {
          "name": "stdout",
          "output_type": "stream",
          "text": [
            "Drive already mounted at /content/drive; to attempt to forcibly remount, call drive.mount(\"/content/drive\", force_remount=True).\n"
          ]
        }
      ],
      "source": [
        "from google.colab import drive\n",
        "drive.mount('/content/drive')"
      ]
    },
    {
      "cell_type": "code",
      "execution_count": null,
      "metadata": {
        "id": "Me9PrOX88QU9"
      },
      "outputs": [],
      "source": [
        "import sys\n",
        "sys.path.append('/content/drive/My Drive/Colab Notebooks/Project1/mytorch/')\n",
        "import os\n",
        "\n",
        "import pandas as pd\n",
        "import torch\n",
        "from tensor import Tensor\n",
        "from torch.utils.data.dataset import Dataset\n",
        "from torchsummary import summary\n",
        "from tqdm import tqdm\n",
        "import matplotlib.pylab as plt"
      ]
    },
    {
      "cell_type": "code",
      "execution_count": null,
      "metadata": {
        "colab": {
          "base_uri": "https://localhost:8080/",
          "height": 36
        },
        "id": "JjUKIbqF8QVC",
        "outputId": "1865bf31-45aa-4688-9448-ee768395bbc0"
      },
      "outputs": [
        {
          "data": {
            "application/vnd.google.colaboratory.intrinsic+json": {
              "type": "string"
            },
            "text/plain": [
              "'cpu'"
            ]
          },
          "execution_count": 7,
          "metadata": {},
          "output_type": "execute_result"
        }
      ],
      "source": [
        "device = \"cuda\" if torch.cuda.is_available() else \"cpu\"\n",
        "device"
      ]
    },
    {
      "cell_type": "code",
      "execution_count": null,
      "metadata": {
        "id": "CDsDDR8g8QVG"
      },
      "outputs": [],
      "source": [
        "class CSVDataset(Dataset):\n",
        "    def __init__(self, path: str):\n",
        "        self.data = pd.get_dummies(pd.read_csv(path), columns=['Species']).astype(float)\n",
        "\n",
        "    def __len__(self):\n",
        "        return len(self.data)\n",
        "\n",
        "    def __getitem__(self, idx: int):\n",
        "        row = self.data.iloc[idx]\n",
        "        features = Tensor(row[:-3].values)\n",
        "        label = Tensor([row.iloc[-3],row.iloc[-2],row.iloc[-1]])\n",
        "        return features, label\n",
        "\n",
        "    @property\n",
        "    def classes(parameter_list):\n",
        "        return ['Iris-setosa','Iris-versicolor','Iris-virginica']\n",
        "\n",
        "\n",
        "path_train = '/content/drive/MyDrive/Colab Notebooks/Project1/Iris-Train.csv'\n",
        "path_test = '/content/drive/MyDrive/Colab Notebooks/Project1/Iris-Test.csv'\n",
        "\n",
        "dataset_train = CSVDataset(path_train)\n",
        "dataset_test = CSVDataset(path_test)"
      ]
    },
    {
      "cell_type": "code",
      "execution_count": null,
      "metadata": {
        "id": "ZphzAzlE8QVI"
      },
      "outputs": [],
      "source": [
        "from torch.utils.data import DataLoader\n",
        "import numpy as np\n",
        "\n",
        "def custom_collate_fn(batch):\n",
        "    features = np.array([item[0].data for item in batch])\n",
        "    labels = np.array([item[1].data for item in batch])\n",
        "\n",
        "    return Tensor(features), Tensor(labels)\n",
        "\n",
        "#TODO set parameters\n",
        "loader_train = DataLoader(\n",
        "    dataset=dataset_train,\n",
        "    batch_size=32,\n",
        "    shuffle=True,\n",
        "    collate_fn=custom_collate_fn\n",
        ")\n",
        "\n",
        "loader_test = DataLoader(\n",
        "    dataset=dataset_test,\n",
        "    batch_size=32,\n",
        "    shuffle=True,\n",
        "    collate_fn=custom_collate_fn\n",
        ")\n"
      ]
    },
    {
      "cell_type": "code",
      "execution_count": null,
      "metadata": {
        "colab": {
          "base_uri": "https://localhost:8080/"
        },
        "id": "_Zo_SwjW8QVJ",
        "outputId": "13c98192-ba29-4460-9fea-34e80aaf04a8"
      },
      "outputs": [
        {
          "name": "stdout",
          "output_type": "stream",
          "text": [
            "batch   size\t= 32\n",
            "train   size\t= 105\n",
            "test    size\t= 60\n",
            "Class   names\t= ['Iris-setosa', 'Iris-versicolor', 'Iris-virginica']\n"
          ]
        }
      ],
      "source": [
        "print(f\"batch   size\\t= {loader_train.batch_size}\")\n",
        "print(f\"train   size\\t= {len(dataset_train):,}\")\n",
        "print(f\"test    size\\t= {len(dataset_test):,}\")\n",
        "print(f\"Class   names\\t= {dataset_train.classes}\")"
      ]
    },
    {
      "cell_type": "code",
      "execution_count": null,
      "metadata": {
        "colab": {
          "base_uri": "https://localhost:8080/"
        },
        "id": "_F73kP-V8QVK",
        "outputId": "220ef9d7-ef67-4dd4-9e2b-7f6c3cb0141a"
      },
      "outputs": [
        {
          "name": "stdout",
          "output_type": "stream",
          "text": [
            "linear1:  linear - total param: 32 - in: 4, out: 8\n",
            "linear2:  linear - total param: 64 - in: 8, out: 8\n",
            "linear3:  linear - total param: 24 - in: 8, out: 3\n"
          ]
        }
      ],
      "source": [
        "from myModel import MyModel\n",
        "\n",
        "mymodel = MyModel()\n",
        "MyModel.summary(self=mymodel)"
      ]
    },
    {
      "cell_type": "code",
      "execution_count": null,
      "metadata": {
        "id": "tksjzFNf8QVL"
      },
      "outputs": [],
      "source": [
        "from loss import CategoricalCrossEntropy\n",
        "from optimizer import SGD\n",
        "\n",
        "def one_epoch_learning(\n",
        "    model: MyModel,\n",
        "    criterion: CategoricalCrossEntropy,\n",
        "    loader: DataLoader,\n",
        "    optimizer: SGD,\n",
        ") -> int:\n",
        "    accs = 0\n",
        "    for data, label in loader:\n",
        "        optimizer.zero_grad()\n",
        "\n",
        "        res: Tensor = mymodel(data)\n",
        "        loss: Tensor = CategoricalCrossEntropy(res, label)\n",
        "        loss.backward()\n",
        "\n",
        "        # sgd = SGD(MyModel.parameters(mymodel))\n",
        "        optimizer.step()\n",
        "\n",
        "        accs += (res.data.argmax(axis=0) == label.data.argmax(axis=0)).sum().item()\n",
        "\n",
        "    return accs"
      ]
    },
    {
      "cell_type": "code",
      "execution_count": null,
      "metadata": {
        "id": "ix_nwYUg8QVM"
      },
      "outputs": [],
      "source": [
        "def calculate_accuracy(\n",
        "    model: MyModel, loader: DataLoader, criterion: CategoricalCrossEntropy\n",
        ") -> int:\n",
        "    accs = 0\n",
        "    for data, label in loader:\n",
        "        res: Tensor = model(data)\n",
        "        accs += (res.data.argmax(axis=0) == label.data.argmax(axis=0)).sum().item()\n",
        "    return accs"
      ]
    },
    {
      "cell_type": "code",
      "execution_count": null,
      "metadata": {
        "id": "L1gJxFex8QVN"
      },
      "outputs": [],
      "source": [
        "def train(\n",
        "    model: MyModel,\n",
        "    criterion: CategoricalCrossEntropy,\n",
        "    loader_train: DataLoader,\n",
        "    loader_test: DataLoader,\n",
        "    optimizer: SGD,\n",
        "    epoch: int,\n",
        "):\n",
        "    results_train = []\n",
        "    results_test = []\n",
        "\n",
        "    for i in tqdm(range(epoch)):\n",
        "        res_train = one_epoch_learning(model, criterion, loader_train, optimizer)\n",
        "        results_train.append(res_train / len(loader_train.dataset))\n",
        "        res_test = calculate_accuracy(model, loader_test, criterion)\n",
        "        results_test.append(res_test / len(loader_test.dataset))\n",
        "    return results_train, results_test"
      ]
    },
    {
      "cell_type": "code",
      "execution_count": null,
      "metadata": {
        "colab": {
          "base_uri": "https://localhost:8080/"
        },
        "id": "Co-tRdDn8QVO",
        "outputId": "c2d6c43c-fd4e-410f-ce44-393e263eff75"
      },
      "outputs": [
        {
          "name": "stderr",
          "output_type": "stream",
          "text": [
            " 18%|█▊        | 9/50 [00:39<07:03, 10.33s/it]"
          ]
        }
      ],
      "source": [
        "from loss import CategoricalCrossEntropy\n",
        "\n",
        "EPOCH = 50\n",
        "\n",
        "optimizer = SGD(MyModel.parameters(mymodel))\n",
        "loss = CategoricalCrossEntropy\n",
        "\n",
        "train_accs, test_accs = train(mymodel, loss, loader_train, loader_test, optimizer, EPOCH)"
      ]
    },
    {
      "cell_type": "code",
      "execution_count": null,
      "metadata": {
        "colab": {
          "base_uri": "https://localhost:8080/",
          "height": 455
        },
        "id": "8KQwivXs8QVP",
        "outputId": "950bbf43-421e-4cf7-e9f2-cc60b2ae2a5e"
      },
      "outputs": [
        {
          "data": {
            "image/png": "[encoded data removed]",
            "text/plain": [
              "<Figure size 640x480 with 1 Axes>"
            ]
          },
          "metadata": {},
          "output_type": "display_data"
        }
      ],
      "source": [
        "plt.plot(train_accs, label=\"Train accuracy\")\n",
        "plt.plot(test_accs, label=\"Test accuracy\")\n",
        "plt.xlabel(\"Epoch\")\n",
        "plt.ylabel(\"Accuracy\")\n",
        "plt.legend()\n",
        "plt.show()"
      ]
    },
    {
      "cell_type": "code",
      "execution_count": null,
      "metadata": {
        "colab": {
          "base_uri": "https://localhost:8080/"
        },
        "id": "eK5Ilbd88QVQ",
        "outputId": "481405d8-ac7a-4258-db10-f3989ec3dfab"
      },
      "outputs": [
        {
          "name": "stdout",
          "output_type": "stream",
          "text": [
            "final train acc = 0.03810\n",
            "final test acc = 0.03333\n",
            "max train acc = 0.04762\n",
            "max test acc = 0.03333\n",
            "min train acc = 0.00000\n",
            "min test acc = 0.00000\n"
          ]
        }
      ],
      "source": [
        "print(f\"final train acc = {train_accs[-1]:.5f}\")\n",
        "print(f\"final test acc = {test_accs[-1]:.5f}\")\n",
        "print(f\"max train acc = {max(train_accs):.5f}\")\n",
        "print(f\"max test acc = {max(test_accs):.5f}\")\n",
        "print(f\"min train acc = {min(train_accs):.5f}\")\n",
        "print(f\"min test acc = {min(test_accs):.5f}\")"
      ]
    }
  ],
  "metadata": {
    "accelerator": "GPU",
    "colab": {
      "gpuType": "T4",
      "provenance": []
    },
    "kernelspec": {
      "display_name": "civenv",
      "language": "python",
      "name": "python3"
    },
    "language_info": {
      "codemirror_mode": {
        "name": "ipython",
        "version": 3
      },
      "file_extension": ".py",
      "mimetype": "text/x-python",
      "name": "python",
      "nbconvert_exporter": "python",
      "pygments_lexer": "ipython3",
      "version": "3.12.6"
    }
  },
  "nbformat": 4,
  "nbformat_minor": 0
}
