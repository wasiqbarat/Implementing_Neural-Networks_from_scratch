{
  "cells": [
    {
      "cell_type": "markdown",
      "metadata": {
        "id": "WnCb0ddP8QU8"
      },
      "source": [
        "### Computational Intelligence - Project 1 - 9931xx6"
      ]
    },
    {
      "cell_type": "code",
      "execution_count": 1,
      "metadata": {
        "colab": {
          "base_uri": "https://localhost:8080/"
        },
        "id": "MPhOyAftAuLy",
        "outputId": "bb685dba-58dc-4824-80d8-ca98d19e8052"
      },
      "outputs": [
        {
          "name": "stdout",
          "output_type": "stream",
          "text": [
            "Mounted at /content/drive\n"
          ]
        }
      ],
      "source": [
        "from google.colab import drive\n",
        "drive.mount('/content/drive')"
      ]
    },
    {
      "cell_type": "markdown",
      "metadata": {},
      "source": [
        "### نکات پیاده سازی :\n",
        " به منظور رعایت قوانین پیاده سازی پروژه از کتابخانه *پایتورچ* فقط برای لود کردن دیتاست استفاده گردیده است. متباقی موارد که شامل آموزش\n",
        "مدل نیز هست بطور کامل توسط کتابخانه Mytorch پیاده سازی شده است.\n",
        "\n",
        "\n",
        "##### پیاده سازی قسمت هایی از فاز دوم پروژه مانند چگونگی آموزش داده ها و نمایش آن بر روی نمودار از فاز اول پروژه الهام گرفته شده است."
      ]
    },
    {
      "cell_type": "code",
      "execution_count": 1,
      "metadata": {
        "id": "Me9PrOX88QU9"
      },
      "outputs": [],
      "source": [
        "import sys\n",
        "sys.path.append('/content/drive/My Drive/Colab Notebooks/Project1/mytorch/')\n",
        "import os\n",
        "\n",
        "import pandas as pd\n",
        "import torch\n",
        "from tensor import Tensor\n",
        "from torch.utils.data.dataset import Dataset\n",
        "from torchsummary import summary\n",
        "from tqdm import tqdm\n",
        "import matplotlib.pylab as plt"
      ]
    },
    {
      "cell_type": "code",
      "execution_count": 2,
      "metadata": {
        "colab": {
          "base_uri": "https://localhost:8080/",
          "height": 36
        },
        "id": "JjUKIbqF8QVC",
        "outputId": "60f7a134-b601-4096-cbfc-694993f58f61"
      },
      "outputs": [
        {
          "data": {
            "text/plain": [
              "'cpu'"
            ]
          },
          "execution_count": 2,
          "metadata": {},
          "output_type": "execute_result"
        }
      ],
      "source": [
        "device = \"cuda\" if torch.cuda.is_available() else \"cpu\"\n",
        "device"
      ]
    },
    {
      "cell_type": "code",
      "execution_count": 3,
      "metadata": {
        "id": "CDsDDR8g8QVG"
      },
      "outputs": [],
      "source": [
        "class CSVDataset(Dataset):\n",
        "    def __init__(self, path: str):\n",
        "        self.data = pd.get_dummies(pd.read_csv(path), columns=['Species']).astype(float)\n",
        "\n",
        "    def __len__(self):\n",
        "        return len(self.data)\n",
        "\n",
        "    def __getitem__(self, idx: int):\n",
        "        row = self.data.iloc[idx]\n",
        "        features = Tensor(row[:-3].values)\n",
        "        label = Tensor([row.iloc[-3],row.iloc[-2],row.iloc[-1]])\n",
        "        return features, label\n",
        "\n",
        "    @property\n",
        "    def classes(parameter_list):\n",
        "        return ['Iris-setosa','Iris-versicolor','Iris-virginica']\n",
        "\n",
        "\n",
        "path_train = 'Iris-Train.csv'\n",
        "path_test = 'Iris-Test.csv'\n",
        "\n",
        "dataset_train = CSVDataset(path_train)\n",
        "dataset_test = CSVDataset(path_test)"
      ]
    },
    {
      "cell_type": "code",
      "execution_count": 4,
      "metadata": {
        "id": "ZphzAzlE8QVI"
      },
      "outputs": [],
      "source": [
        "from torch.utils.data import DataLoader\n",
        "import numpy as np\n",
        "\n",
        "def custom_collate_fn(batch):\n",
        "    features = np.array([item[0].data for item in batch])\n",
        "    labels = np.array([item[1].data for item in batch])\n",
        "\n",
        "    return Tensor(features), Tensor(labels)\n",
        "\n",
        "#TODO set parameters\n",
        "loader_train = DataLoader(\n",
        "    dataset=dataset_train,\n",
        "    batch_size=16,\n",
        "    shuffle=True,\n",
        "    collate_fn=custom_collate_fn\n",
        ")\n",
        "\n",
        "loader_test = DataLoader(\n",
        "    dataset=dataset_test,\n",
        "    batch_size=16,\n",
        "    shuffle=True,\n",
        "    collate_fn=custom_collate_fn\n",
        ")\n"
      ]
    },
    {
      "cell_type": "code",
      "execution_count": 5,
      "metadata": {
        "colab": {
          "base_uri": "https://localhost:8080/"
        },
        "id": "_Zo_SwjW8QVJ",
        "outputId": "e6cc5857-a38f-4d3f-f8de-0e9e911a90f6"
      },
      "outputs": [
        {
          "name": "stdout",
          "output_type": "stream",
          "text": [
            "batch   size\t= 16\n",
            "train   size\t= 105\n",
            "test    size\t= 60\n",
            "Class   names\t= ['Iris-setosa', 'Iris-versicolor', 'Iris-virginica']\n"
          ]
        }
      ],
      "source": [
        "print(f\"batch   size\\t= {loader_train.batch_size}\")\n",
        "print(f\"train   size\\t= {len(dataset_train):,}\")\n",
        "print(f\"test    size\\t= {len(dataset_test):,}\")\n",
        "print(f\"Class   names\\t= {dataset_train.classes}\")"
      ]
    },
    {
      "cell_type": "code",
      "execution_count": 6,
      "metadata": {
        "colab": {
          "base_uri": "https://localhost:8080/"
        },
        "id": "_F73kP-V8QVK",
        "outputId": "3d35b102-e57c-471f-e167-697cf1b79f2c"
      },
      "outputs": [
        {
          "name": "stdout",
          "output_type": "stream",
          "text": [
            "linear1:  linear - total param: 128 - in: 4, out: 32\n",
            "linear2:  linear - total param: 512 - in: 32, out: 16\n",
            "linear3:  linear - total param: 48 - in: 16, out: 3\n"
          ]
        }
      ],
      "source": [
        "from myModel import MyModel\n",
        "\n",
        "mymodel = MyModel()\n",
        "MyModel.summary(self=mymodel)"
      ]
    },
    {
      "cell_type": "code",
      "execution_count": 7,
      "metadata": {
        "id": "tksjzFNf8QVL"
      },
      "outputs": [],
      "source": [
        "from loss import CategoricalCrossEntropy\n",
        "from optimizer import SGD\n",
        "\n",
        "def one_epoch_learning(\n",
        "    model: MyModel,\n",
        "    criterion: CategoricalCrossEntropy,\n",
        "    loader: DataLoader,\n",
        "    optimizer: SGD,\n",
        ") -> int:\n",
        "    accs = 0\n",
        "    for data, label in loader:\n",
        "        optimizer.zero_grad()\n",
        "\n",
        "        res: Tensor = mymodel(data)\n",
        "        loss: Tensor = CategoricalCrossEntropy(res, label)\n",
        "\n",
        "        loss.backward()\n",
        "        \n",
        "        optimizer.step()\n",
        "\n",
        "        accs += (res.data.argmax(axis=1) == label.data.argmax(axis=1)).sum().item()\n",
        "\n",
        "    return accs"
      ]
    },
    {
      "cell_type": "code",
      "execution_count": 9,
      "metadata": {
        "id": "ix_nwYUg8QVM"
      },
      "outputs": [],
      "source": [
        "def calculate_accuracy(\n",
        "    model: MyModel, loader: DataLoader, criterion: CategoricalCrossEntropy\n",
        ") -> int:\n",
        "    accs = 0\n",
        "    for data, label in loader:\n",
        "        res: Tensor = model(data)\n",
        "        accs += (res.data.argmax(axis=1) == label.data.argmax(axis=1)).sum().item()\n",
        "    return accs"
      ]
    },
    {
      "cell_type": "code",
      "execution_count": 10,
      "metadata": {
        "id": "L1gJxFex8QVN"
      },
      "outputs": [],
      "source": [
        "def train(\n",
        "    model: MyModel,\n",
        "    criterion: CategoricalCrossEntropy,\n",
        "    loader_train: DataLoader,\n",
        "    loader_test: DataLoader,\n",
        "    optimizer: SGD,\n",
        "    epoch: int,\n",
        "):\n",
        "    results_train = []\n",
        "    results_test = []\n",
        "\n",
        "    for i in tqdm(range(epoch)):\n",
        "        res_train = one_epoch_learning(model, criterion, loader_train, optimizer)\n",
        "        results_train.append(res_train / len(loader_train.dataset))\n",
        "        res_test = calculate_accuracy(model, loader_test, criterion)\n",
        "        results_test.append(res_test / len(loader_test.dataset))\n",
        "    return results_train, results_test"
      ]
    },
    {
      "cell_type": "code",
      "execution_count": 17,
      "metadata": {
        "colab": {
          "base_uri": "https://localhost:8080/"
        },
        "id": "Co-tRdDn8QVO",
        "outputId": "175577be-070e-4b79-e125-6cd31587b0bd"
      },
      "outputs": [
        {
          "name": "stderr",
          "output_type": "stream",
          "text": [
            "100%|██████████| 50/50 [00:00<00:00, 59.19it/s]\n"
          ]
        }
      ],
      "source": [
        "from loss import CategoricalCrossEntropy\n",
        "\n",
        "EPOCH = 50\n",
        "\n",
        "optimizer = SGD(MyModel.parameters(mymodel))\n",
        "loss = CategoricalCrossEntropy\n",
        "\n",
        "train_accs, test_accs = train(mymodel, loss, loader_train, loader_test, optimizer, EPOCH)"
      ]
    },
    {
      "cell_type": "code",
      "execution_count": 18,
      "metadata": {
        "colab": {
          "base_uri": "https://localhost:8080/",
          "height": 449
        },
        "id": "8KQwivXs8QVP",
        "outputId": "6557c47e-5d64-45dd-ab21-cfa7baab1926"
      },
      "outputs": [
        {
          "data": {
            "image/png": "[encoded data removed]",
            "text/plain": [
              "<Figure size 640x480 with 1 Axes>"
            ]
          },
          "metadata": {},
          "output_type": "display_data"
        }
      ],
      "source": [
        "plt.plot(train_accs, label=\"Train accuracy\")\n",
        "plt.plot(test_accs, label=\"Test accuracy\")\n",
        "plt.xlabel(\"Epoch\")\n",
        "plt.ylabel(\"Accuracy\")\n",
        "plt.legend()\n",
        "plt.show()"
      ]
    },
    {
      "cell_type": "code",
      "execution_count": 19,
      "metadata": {
        "colab": {
          "base_uri": "https://localhost:8080/"
        },
        "id": "eK5Ilbd88QVQ",
        "outputId": "c3832606-e774-42eb-e911-7a691e1cd093"
      },
      "outputs": [
        {
          "name": "stdout",
          "output_type": "stream",
          "text": [
            "final train acc = 0.95238\n",
            "final test acc = 0.95000\n",
            "max train acc = 0.97143\n",
            "max test acc = 0.96667\n",
            "min train acc = 0.86667\n",
            "min test acc = 0.88333\n"
          ]
        }
      ],
      "source": [
        "print(f\"final train acc = {train_accs[-1]:.5f}\")\n",
        "print(f\"final test acc = {test_accs[-1]:.5f}\")\n",
        "print(f\"max train acc = {max(train_accs):.5f}\")\n",
        "print(f\"max test acc = {max(test_accs):.5f}\")\n",
        "print(f\"min train acc = {min(train_accs):.5f}\")\n",
        "print(f\"min test acc = {min(test_accs):.5f}\")"
      ]
    }
  ],
  "metadata": {
    "accelerator": "GPU",
    "colab": {
      "gpuType": "T4",
      "provenance": []
    },
    "kernelspec": {
      "display_name": "civenv",
      "language": "python",
      "name": "python3"
    },
    "language_info": {
      "codemirror_mode": {
        "name": "ipython",
        "version": 3
      },
      "file_extension": ".py",
      "mimetype": "text/x-python",
      "name": "python",
      "nbconvert_exporter": "python",
      "pygments_lexer": "ipython3",
      "version": "3.12.7"
    }
  },
  "nbformat": 4,
  "nbformat_minor": 0
}
